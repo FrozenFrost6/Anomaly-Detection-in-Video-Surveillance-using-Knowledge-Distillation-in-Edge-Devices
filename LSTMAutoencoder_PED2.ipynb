{
 "cells": [
  {
   "cell_type": "code",
   "execution_count": 1,
   "metadata": {},
   "outputs": [
    {
     "name": "stderr",
     "output_type": "stream",
     "text": [
      "C:\\Users\\Chanv\\anaconda3\\envs\\tf2\\lib\\site-packages\\requests\\__init__.py:109: RequestsDependencyWarning: urllib3 (1.26.14) or chardet (None)/charset_normalizer (3.1.0) doesn't match a supported version!\n",
      "  warnings.warn(\n"
     ]
    },
    {
     "name": "stdout",
     "output_type": "stream",
     "text": [
      "Num GPUs Available:  1\n",
      "True\n",
      "2.10.1\n"
     ]
    },
    {
     "data": {
      "text/plain": [
       "'3.9.16 | packaged by conda-forge | (main, Feb  1 2023, 21:28:38) [MSC v.1929 64 bit (AMD64)]'"
      ]
     },
     "execution_count": 1,
     "metadata": {},
     "output_type": "execute_result"
    }
   ],
   "source": [
    "import tensorflow as tf\n",
    "print(\"Num GPUs Available: \", len(tf.config.experimental.list_physical_devices('GPU')))\n",
    "print(tf.test.is_built_with_cuda())\n",
    "print(tf.version.VERSION)\n",
    "\n",
    "for device in tf.config.list_physical_devices('GPU'):\n",
    "    tf.config.experimental.set_memory_growth(device, True)\n",
    "\n",
    "import sys\n",
    "sys.version\n"
   ]
  },
  {
   "cell_type": "code",
   "execution_count": 2,
   "metadata": {
    "executionInfo": {
     "elapsed": 651,
     "status": "ok",
     "timestamp": 1708805847305,
     "user": {
      "displayName": "Gokul R",
      "userId": "12776642200840171310"
     },
     "user_tz": -330
    },
    "id": "Gpxo6B5OpNGE"
   },
   "outputs": [],
   "source": [
    "DATASET_PATH = 'C:/Users/Chanv/Projects/FYP/UCSDPed/UCSDped2/Train'\n",
    "SINGLE_TEST_PATH = 'C:/Users/Chanv/Projects/FYP/UCSDPed/UCSDped2/Test/Test007'\n",
    "BATCH_SIZE = 8\n",
    "EPOCHS = 3\n",
    "MODEL_PATH = \"C:/Users/Chanv/Projects/FYP/UCSDPed/ped2weights/lstm_model2.hdf5\""
   ]
  },
  {
   "cell_type": "code",
   "execution_count": 3,
   "metadata": {
    "executionInfo": {
     "elapsed": 3,
     "status": "ok",
     "timestamp": 1708805849249,
     "user": {
      "displayName": "Gokul R",
      "userId": "12776642200840171310"
     },
     "user_tz": -330
    },
    "id": "Q-0waVbwhyjw"
   },
   "outputs": [],
   "source": [
    "from os import listdir\n",
    "from os.path import isfile, join, isdir\n",
    "from PIL import Image\n",
    "import numpy as np\n",
    "import matplotlib.pyplot as plt"
   ]
  },
  {
   "cell_type": "code",
   "execution_count": 4,
   "metadata": {
    "executionInfo": {
     "elapsed": 3,
     "status": "ok",
     "timestamp": 1708805853379,
     "user": {
      "displayName": "Gokul R",
      "userId": "12776642200840171310"
     },
     "user_tz": -330
    },
    "id": "d4XVI11OpPZA"
   },
   "outputs": [],
   "source": [
    "def evaluate(sequences, reconstructed_sequences):\n",
    "    sequences_reconstruction_cost = np.array([np.linalg.norm(np.subtract(sequences[i],reconstructed_sequences[i])) for i in range(0,len(sequences))])\n",
    "    sa = (sequences_reconstruction_cost - np.min(sequences_reconstruction_cost)) / (np.max(sequences_reconstruction_cost) - np.min(sequences_reconstruction_cost))\n",
    "    sr = 1.0 - sa\n",
    "    # ( mse - min_mse ) / max_mse - min_mse\n",
    "    # plot the regularity scores\n",
    "    sequence_numbers = [i for i in range(1, len(sequences) + 1)]\n",
    "    plt.xticks(range(min(sequence_numbers), max(sequence_numbers), 2))\n",
    "    plt.plot(sequence_numbers, sr)\n",
    "    plt.ylabel('Regularity score')\n",
    "    plt.xlabel('Sequence Number')\n",
    "    plt.show()\n",
    "\n",
    "    return sr"
   ]
  },
  {
   "cell_type": "code",
   "execution_count": 5,
   "metadata": {
    "executionInfo": {
     "elapsed": 2,
     "status": "ok",
     "timestamp": 1708805859926,
     "user": {
      "displayName": "Gokul R",
      "userId": "12776642200840171310"
     },
     "user_tz": -330
    },
    "id": "M2S_GNYMpPiW"
   },
   "outputs": [],
   "source": [
    "def plot_mse_change(mse_values, mean_mse=0, legend = None, doPlotThreshold = False):\n",
    "\n",
    "    mse_values = mse_values[:, 0]\n",
    "    # Plot MSE against frame number\n",
    "    sequence_numbers = [i for i in range(1, len(mse_values) + 1)]\n",
    "    plt.xticks(range(min(sequence_numbers), max(sequence_numbers), 2))\n",
    "    \n",
    "    plt.plot(sequence_numbers, mse_values, color='g', marker='o', linestyle='-')\n",
    "    plt.xlabel('Sequence Number')\n",
    "    plt.ylabel('Mean Squared Error (MSE)')\n",
    "    plt.title('MSE Against Sequence Number')\n",
    "    plt.grid(True)\n",
    "\n",
    "    if doPlotThreshold:\n",
    "        plt.axhline(y=mean_mse, color='c', linestyle='--', label='Mean MSE')\n",
    "        plt.legend(legend)\n",
    "    plt.show()"
   ]
  },
  {
   "cell_type": "code",
   "execution_count": 6,
   "metadata": {},
   "outputs": [
    {
     "name": "stdout",
     "output_type": "stream",
     "text": [
      "C:/Users/Chanv/Projects/FYP/UCSDPed/UCSDped2/Train\\Train001\n",
      "C:/Users/Chanv/Projects/FYP/UCSDPed/UCSDped2/Train\\Train002\n",
      "C:/Users/Chanv/Projects/FYP/UCSDPed/UCSDped2/Train\\Train003\n",
      "C:/Users/Chanv/Projects/FYP/UCSDPed/UCSDped2/Train\\Train004\n",
      "C:/Users/Chanv/Projects/FYP/UCSDPed/UCSDped2/Train\\Train005\n",
      "C:/Users/Chanv/Projects/FYP/UCSDPed/UCSDped2/Train\\Train006\n",
      "C:/Users/Chanv/Projects/FYP/UCSDPed/UCSDped2/Train\\Train007\n",
      "C:/Users/Chanv/Projects/FYP/UCSDPed/UCSDped2/Train\\Train008\n",
      "C:/Users/Chanv/Projects/FYP/UCSDPed/UCSDped2/Train\\Train009\n",
      "C:/Users/Chanv/Projects/FYP/UCSDPed/UCSDped2/Train\\Train010\n",
      "C:/Users/Chanv/Projects/FYP/UCSDPed/UCSDped2/Train\\Train011\n",
      "C:/Users/Chanv/Projects/FYP/UCSDPed/UCSDped2/Train\\Train012\n",
      "C:/Users/Chanv/Projects/FYP/UCSDPed/UCSDped2/Train\\Train013\n",
      "C:/Users/Chanv/Projects/FYP/UCSDPed/UCSDped2/Train\\Train014\n",
      "C:/Users/Chanv/Projects/FYP/UCSDPed/UCSDped2/Train\\Train015\n",
      "C:/Users/Chanv/Projects/FYP/UCSDPed/UCSDped2/Train\\Train016\n",
      "Preprocessed dataset shape: (150, 10, 128, 128, 3)\n"
     ]
    }
   ],
   "source": [
    "import cv2\n",
    "import os\n",
    "import numpy as np\n",
    "\n",
    "def preprocess_dataset(data_path, output_shape=(128, 128)):\n",
    "    # Create a list to store preprocessed images\n",
    "    preprocessed_data = []\n",
    "\n",
    "    \n",
    "    # Loop through each video sequence in the dataset\n",
    "    for sequence_folder in os.listdir(data_path):\n",
    "        sequence_path = os.path.join(data_path, sequence_folder)\n",
    "        if sequence_path.endswith(\"Store\"):\n",
    "            continue\n",
    "        print(sequence_path)\n",
    "        \n",
    "        frames = []\n",
    "        # Read frames from the video sequence\n",
    "        for frame_file in sorted(os.listdir(sequence_path)):\n",
    "            if frame_file.endswith(\"Store\"):\n",
    "                continue\n",
    "            \n",
    "            if len(frames) == 10:\n",
    "                preprocessed_data.append(frames)\n",
    "                frames = []\n",
    "           \n",
    "            frame_path = os.path.join(sequence_path, frame_file)\n",
    "            frame = cv2.imread(frame_path)\n",
    "            frame = cv2.resize(frame, output_shape)  # Resize frame\n",
    "            frame = frame.astype(np.float32) / 255.0  # Normalize pixel values\n",
    "            frames.append(frame)\n",
    "        preprocessed_data.append(frames)\n",
    "\n",
    "    # Convert the list to a numpy array\n",
    "    preprocessed_data = np.array(preprocessed_data)\n",
    "    \n",
    "    return preprocessed_data\n",
    "\n",
    "\n",
    "# Path to the Ped2 dataset\n",
    "data_path = DATASET_PATH\n",
    "\n",
    "# Preprocess the Ped2 dataset\n",
    "preprocessed_data = preprocess_dataset(data_path)\n",
    "preprocessed_data = preprocessed_data[:150]\n",
    "\n",
    "# Check the shape of the preprocessed data\n",
    "print(\"Preprocessed dataset shape:\", preprocessed_data.shape)\n"
   ]
  },
  {
   "cell_type": "code",
   "execution_count": 7,
   "metadata": {
    "executionInfo": {
     "elapsed": 10129,
     "status": "ok",
     "timestamp": 1708805874389,
     "user": {
      "displayName": "Gokul R",
      "userId": "12776642200840171310"
     },
     "user_tz": -330
    },
    "id": "FSmL6XTIpPp4"
   },
   "outputs": [],
   "source": [
    "import keras\n",
    "from keras.layers import Conv2DTranspose, ConvLSTM2D, BatchNormalization, TimeDistributed, Conv2D, LayerNormalization\n",
    "from keras.models import Sequential, load_model\n",
    "\n",
    "def get_model2():\n",
    "\n",
    "    seq = Sequential()\n",
    "    seq.add(TimeDistributed(Conv2D(64, (11, 11), strides=4, padding=\"same\"), batch_input_shape=(None, 10, 128, 128, 3)))\n",
    "    seq.add(LayerNormalization())\n",
    "    seq.add(TimeDistributed(Conv2D(32, (5, 5), strides=2, padding=\"same\")))\n",
    "    seq.add(LayerNormalization())\n",
    "    # # # # #\n",
    "    seq.add(ConvLSTM2D(64, (3, 3), padding=\"same\", return_sequences=True))\n",
    "    seq.add(LayerNormalization())\n",
    "    seq.add(ConvLSTM2D(32, (3, 3), padding=\"same\", return_sequences=True))\n",
    "    seq.add(LayerNormalization())\n",
    "    seq.add(ConvLSTM2D(64, (3, 3), padding=\"same\", return_sequences=True))\n",
    "    seq.add(LayerNormalization())\n",
    "    # # # # #\n",
    "    seq.add(TimeDistributed(Conv2DTranspose(32, (5, 5), strides=2, padding=\"same\")))\n",
    "    seq.add(LayerNormalization())\n",
    "    seq.add(TimeDistributed(Conv2DTranspose(64, (11, 11), strides=4, padding=\"same\")))\n",
    "    seq.add(LayerNormalization())\n",
    "    seq.add(TimeDistributed(Conv2D(3, (11, 11), activation=\"sigmoid\", padding=\"same\")))\n",
    "    print(seq.summary())\n",
    "\n",
    "    return seq"
   ]
  },
  {
   "cell_type": "code",
   "execution_count": 8,
   "metadata": {
    "colab": {
     "base_uri": "https://localhost:8080/"
    },
    "executionInfo": {
     "elapsed": 778,
     "status": "ok",
     "timestamp": 1708805875152,
     "user": {
      "displayName": "Gokul R",
      "userId": "12776642200840171310"
     },
     "user_tz": -330
    },
    "id": "8YL0cdhspPr8",
    "outputId": "08002ab7-d995-4a12-f694-6c6bf6e5a16a"
   },
   "outputs": [
    {
     "name": "stdout",
     "output_type": "stream",
     "text": [
      "Model: \"sequential\"\n",
      "_________________________________________________________________\n",
      " Layer (type)                Output Shape              Param #   \n",
      "=================================================================\n",
      " time_distributed (TimeDistr  (None, 10, 32, 32, 64)   23296     \n",
      " ibuted)                                                         \n",
      "                                                                 \n",
      " layer_normalization (LayerN  (None, 10, 32, 32, 64)   128       \n",
      " ormalization)                                                   \n",
      "                                                                 \n",
      " time_distributed_1 (TimeDis  (None, 10, 16, 16, 32)   51232     \n",
      " tributed)                                                       \n",
      "                                                                 \n",
      " layer_normalization_1 (Laye  (None, 10, 16, 16, 32)   64        \n",
      " rNormalization)                                                 \n",
      "                                                                 \n",
      " conv_lstm2d (ConvLSTM2D)    (None, 10, 16, 16, 64)    221440    \n",
      "                                                                 \n",
      " layer_normalization_2 (Laye  (None, 10, 16, 16, 64)   128       \n",
      " rNormalization)                                                 \n",
      "                                                                 \n",
      " conv_lstm2d_1 (ConvLSTM2D)  (None, 10, 16, 16, 32)    110720    \n",
      "                                                                 \n",
      " layer_normalization_3 (Laye  (None, 10, 16, 16, 32)   64        \n",
      " rNormalization)                                                 \n",
      "                                                                 \n",
      " conv_lstm2d_2 (ConvLSTM2D)  (None, 10, 16, 16, 64)    221440    \n",
      "                                                                 \n",
      " layer_normalization_4 (Laye  (None, 10, 16, 16, 64)   128       \n",
      " rNormalization)                                                 \n",
      "                                                                 \n",
      " time_distributed_2 (TimeDis  (None, 10, 32, 32, 32)   51232     \n",
      " tributed)                                                       \n",
      "                                                                 \n",
      " layer_normalization_5 (Laye  (None, 10, 32, 32, 32)   64        \n",
      " rNormalization)                                                 \n",
      "                                                                 \n",
      " time_distributed_3 (TimeDis  (None, 10, 128, 128, 64)  247872   \n",
      " tributed)                                                       \n",
      "                                                                 \n",
      " layer_normalization_6 (Laye  (None, 10, 128, 128, 64)  128      \n",
      " rNormalization)                                                 \n",
      "                                                                 \n",
      " time_distributed_4 (TimeDis  (None, 10, 128, 128, 3)  23235     \n",
      " tributed)                                                       \n",
      "                                                                 \n",
      "=================================================================\n",
      "Total params: 951,171\n",
      "Trainable params: 951,171\n",
      "Non-trainable params: 0\n",
      "_________________________________________________________________\n",
      "None\n"
     ]
    }
   ],
   "source": [
    "seq2 = get_model2()"
   ]
  },
  {
   "cell_type": "code",
   "execution_count": 9,
   "metadata": {},
   "outputs": [],
   "source": [
    "from sklearn.model_selection import train_test_split\n",
    "\n",
    "# Build autoencoder model\n",
    "train_data, val_data = train_test_split(preprocessed_data, test_size=0.2, random_state=42)\n",
    "\n",
    "\n"
   ]
  },
  {
   "cell_type": "code",
   "execution_count": 10,
   "metadata": {
    "scrolled": true
   },
   "outputs": [
    {
     "name": "stdout",
     "output_type": "stream",
     "text": [
      "Epoch 1/20\n",
      "15/15 [==============================] - 21s 705ms/step - loss: 0.0515 - val_loss: 0.0346\n",
      "Epoch 2/20\n",
      "15/15 [==============================] - 7s 450ms/step - loss: 0.0294 - val_loss: 0.0232\n",
      "Epoch 3/20\n",
      "15/15 [==============================] - 7s 461ms/step - loss: 0.0189 - val_loss: 0.0138\n",
      "Epoch 4/20\n",
      "15/15 [==============================] - 7s 460ms/step - loss: 0.0112 - val_loss: 0.0091\n",
      "Epoch 5/20\n",
      "15/15 [==============================] - 7s 465ms/step - loss: 0.0104 - val_loss: 0.0088\n",
      "Epoch 6/20\n",
      "15/15 [==============================] - 7s 490ms/step - loss: 0.0079 - val_loss: 0.0073\n",
      "Epoch 7/20\n",
      "15/15 [==============================] - 7s 490ms/step - loss: 0.0067 - val_loss: 0.0064\n",
      "Epoch 8/20\n",
      "15/15 [==============================] - 8s 509ms/step - loss: 0.0060 - val_loss: 0.0057\n",
      "Epoch 9/20\n",
      "15/15 [==============================] - 7s 468ms/step - loss: 0.0055 - val_loss: 0.0054\n",
      "Epoch 10/20\n",
      "15/15 [==============================] - 7s 468ms/step - loss: 0.0050 - val_loss: 0.0049\n",
      "Epoch 11/20\n",
      "15/15 [==============================] - 7s 474ms/step - loss: 0.0046 - val_loss: 0.0045\n",
      "Epoch 12/20\n",
      "15/15 [==============================] - 7s 497ms/step - loss: 0.0043 - val_loss: 0.0044\n",
      "Epoch 13/20\n",
      "15/15 [==============================] - 7s 468ms/step - loss: 0.0042 - val_loss: 0.0043\n",
      "Epoch 14/20\n",
      "15/15 [==============================] - 7s 463ms/step - loss: 0.0042 - val_loss: 0.0040\n",
      "Epoch 15/20\n",
      "15/15 [==============================] - 7s 475ms/step - loss: 0.0039 - val_loss: 0.0040\n",
      "Epoch 16/20\n",
      "15/15 [==============================] - 7s 468ms/step - loss: 0.0038 - val_loss: 0.0040\n",
      "Epoch 17/20\n",
      "15/15 [==============================] - 7s 482ms/step - loss: 0.0038 - val_loss: 0.0037\n",
      "Epoch 18/20\n",
      "15/15 [==============================] - 7s 475ms/step - loss: 0.0036 - val_loss: 0.0036\n",
      "Epoch 19/20\n",
      "15/15 [==============================] - 7s 464ms/step - loss: 0.0036 - val_loss: 0.0036\n",
      "Epoch 20/20\n",
      "15/15 [==============================] - 7s 455ms/step - loss: 0.0035 - val_loss: 0.0036\n"
     ]
    }
   ],
   "source": [
    "# Train autoencoder\n",
    "# seq2 = load_model(MODEL_PATH)\n",
    "seq2.compile(loss='mse', optimizer=keras.optimizers.Adam(learning_rate=1e-4, epsilon=1e-6))\n",
    "seq2.fit(train_data, train_data, validation_data=(val_data, val_data), epochs=20, batch_size=BATCH_SIZE)\n",
    "seq2.save(MODEL_PATH)\n",
    "# seq2 = load_model(MODEL_PATH)\n",
    "\n"
   ]
  },
  {
   "cell_type": "code",
   "execution_count": 11,
   "metadata": {},
   "outputs": [],
   "source": [
    "def get_mse(sequences, reconstructed_sequences):\n",
    "    mse = np.mean(np.square(sequences - reconstructed_sequences), axis=(1,2,3))\n",
    "    return mse"
   ]
  },
  {
   "cell_type": "code",
   "execution_count": 12,
   "metadata": {},
   "outputs": [],
   "source": [
    "def get_mean_mse_value(reference_model, data):\n",
    "    mse_values = []\n",
    "    for i in range(10, len(preprocessed_data) + 10, 10): \n",
    "        #to loop through and predict because gpu cannot handle all data prediction at once\n",
    "        reference_model_predicted_sequences_train_data = reference_model.predict(data[i-10:i])\n",
    "        reference_model_mse_train_data = get_mse(data[i-10:i], reference_model_predicted_sequences_train_data)\n",
    "        for sequence_mse in reference_model_mse_train_data:\n",
    "            mse_values.append(sequence_mse[0])\n",
    "    mse_values = np.array(mse_values)\n",
    "    mean_train_mse = np.mean(mse_values)\n",
    "    return mean_train_mse"
   ]
  },
  {
   "cell_type": "code",
   "execution_count": 13,
   "metadata": {},
   "outputs": [
    {
     "name": "stdout",
     "output_type": "stream",
     "text": [
      "1/1 [==============================] - 5s 5s/step\n",
      "1/1 [==============================] - 0s 59ms/step\n",
      "1/1 [==============================] - 0s 53ms/step\n",
      "1/1 [==============================] - 0s 45ms/step\n",
      "1/1 [==============================] - 0s 49ms/step\n",
      "1/1 [==============================] - 0s 44ms/step\n",
      "1/1 [==============================] - 0s 52ms/step\n",
      "1/1 [==============================] - 0s 44ms/step\n",
      "1/1 [==============================] - 0s 54ms/step\n",
      "1/1 [==============================] - 0s 53ms/step\n",
      "1/1 [==============================] - 0s 52ms/step\n",
      "1/1 [==============================] - 0s 45ms/step\n",
      "1/1 [==============================] - 0s 45ms/step\n",
      "1/1 [==============================] - 0s 52ms/step\n",
      "1/1 [==============================] - 0s 43ms/step\n",
      "0.0035579593\n"
     ]
    }
   ],
   "source": [
    "mean_mse = get_mean_mse_value(seq2, preprocessed_data)\n",
    "# mean_mse = 0.0031118135 #already computed\n",
    "print(mean_mse)"
   ]
  },
  {
   "cell_type": "markdown",
   "metadata": {},
   "source": [
    "# Testing"
   ]
  },
  {
   "cell_type": "code",
   "execution_count": 14,
   "metadata": {},
   "outputs": [],
   "source": [
    "test_path = SINGLE_TEST_PATH"
   ]
  },
  {
   "cell_type": "code",
   "execution_count": 15,
   "metadata": {},
   "outputs": [
    {
     "name": "stdout",
     "output_type": "stream",
     "text": [
      "Preprocessed dataset shape: (18, 10, 128, 128, 3)\n"
     ]
    }
   ],
   "source": [
    "def preprocess_test_dataset(data_path, output_shape=(128, 128)):\n",
    "    # Create a list to store preprocessed images\n",
    "    preprocessed_data = []\n",
    "        \n",
    "    # Read frames from the video sequence\n",
    "    frames = []\n",
    "    for frame_file in sorted(os.listdir(data_path)):\n",
    "        \n",
    "        if frame_file.endswith(\"Store\"):\n",
    "                continue\n",
    "        \n",
    "        if len(frames) == 10:\n",
    "            preprocessed_data.append(frames)\n",
    "            frames = []\n",
    "        \n",
    "        frame_path = os.path.join(data_path, frame_file)\n",
    "        \n",
    "        frame = cv2.imread(frame_path)\n",
    "        frame = cv2.resize(frame, output_shape)  # Resize frame\n",
    "        frame = frame.astype(np.float32) / 255.0  # Normalize pixel values\n",
    "        \n",
    "        frames.append(frame)\n",
    "        \n",
    "    preprocessed_data.append(frames)\n",
    "\n",
    "\n",
    "    # Convert the list to a numpy array\n",
    "    preprocessed_data = np.array(preprocessed_data)\n",
    "    \n",
    "    return preprocessed_data\n",
    "\n",
    "test_data = preprocess_test_dataset(test_path)\n",
    "print(\"Preprocessed dataset shape:\", test_data.shape)"
   ]
  },
  {
   "cell_type": "code",
   "execution_count": 16,
   "metadata": {
    "executionInfo": {
     "elapsed": 8,
     "status": "aborted",
     "timestamp": 1708808056122,
     "user": {
      "displayName": "Gokul R",
      "userId": "12776642200840171310"
     },
     "user_tz": -330
    },
    "id": "olUIpzW6eCXX",
    "scrolled": true
   },
   "outputs": [
    {
     "name": "stdout",
     "output_type": "stream",
     "text": [
      "1/1 [==============================] - 9s 9s/step\n"
     ]
    }
   ],
   "source": [
    "predicted_sequences = seq2.predict(test_data)"
   ]
  },
  {
   "cell_type": "code",
   "execution_count": 17,
   "metadata": {
    "executionInfo": {
     "elapsed": 7,
     "status": "aborted",
     "timestamp": 1708808056122,
     "user": {
      "displayName": "Gokul R",
      "userId": "12776642200840171310"
     },
     "user_tz": -330
    },
    "id": "ROqo9szUz68b"
   },
   "outputs": [
    {
     "data": {
      "image/png": "[encoded data removed]",
      "text/plain": [
       "<Figure size 640x480 with 1 Axes>"
      ]
     },
     "metadata": {},
     "output_type": "display_data"
    }
   ],
   "source": [
    "reg = evaluate(test_data, predicted_sequences)"
   ]
  },
  {
   "cell_type": "code",
   "execution_count": 18,
   "metadata": {},
   "outputs": [],
   "source": [
    "mse = get_mse(test_data, predicted_sequences)"
   ]
  },
  {
   "cell_type": "code",
   "execution_count": 19,
   "metadata": {
    "executionInfo": {
     "elapsed": 7,
     "status": "aborted",
     "timestamp": 1708808056122,
     "user": {
      "displayName": "Gokul R",
      "userId": "12776642200840171310"
     },
     "user_tz": -330
    },
    "id": "UrLWQpX6z_U-"
   },
   "outputs": [
    {
     "data": {
      "image/png": "[encoded data removed]",
      "text/plain": [
       "<Figure size 640x480 with 1 Axes>"
      ]
     },
     "metadata": {},
     "output_type": "display_data"
    }
   ],
   "source": [
    "plot_mse_change(mse, mean_mse, [\"Teacher 1\"], doPlotThreshold =True)"
   ]
  },
  {
   "cell_type": "code",
   "execution_count": 20,
   "metadata": {},
   "outputs": [
    {
     "name": "stdout",
     "output_type": "stream",
     "text": [
      "[[0.00316115 0.00314932 0.00314781]\n",
      " [0.00306645 0.00303144 0.00305916]\n",
      " [0.0030974  0.00308322 0.00309417]\n",
      " [0.00336483 0.0033521  0.00336111]\n",
      " [0.00371113 0.00370662 0.00370601]\n",
      " [0.00393575 0.00392271 0.00393697]\n",
      " [0.00431211 0.00427164 0.00427233]\n",
      " [0.0043249  0.00430159 0.00429563]\n",
      " [0.00426898 0.00424624 0.0042826 ]\n",
      " [0.00413151 0.00410825 0.00415862]\n",
      " [0.00448816 0.00447041 0.00447462]\n",
      " [0.00474372 0.00472609 0.00474406]\n",
      " [0.0045892  0.0045962  0.00457974]\n",
      " [0.00442545 0.00441199 0.00442382]\n",
      " [0.00456305 0.00455545 0.00456872]\n",
      " [0.00435444 0.00434064 0.00435796]\n",
      " [0.00439139 0.00435642 0.00440111]\n",
      " [0.00451517 0.00449987 0.00453087]]\n"
     ]
    }
   ],
   "source": [
    "print(mse)"
   ]
  }
 ],
 "metadata": {
  "colab": {
   "provenance": [
    {
     "file_id": "16pKwsVzk5vStYFXQ6UIO8y_7vRB64i_b",
     "timestamp": 1708760794322
    }
   ]
  },
  "kernelspec": {
   "display_name": "Python 3 (ipykernel)",
   "language": "python",
   "name": "python3"
  },
  "language_info": {
   "codemirror_mode": {
    "name": "ipython",
    "version": 3
   },
   "file_extension": ".py",
   "mimetype": "text/x-python",
   "name": "python",
   "nbconvert_exporter": "python",
   "pygments_lexer": "ipython3",
   "version": "3.9.16"
  }
 },
 "nbformat": 4,
 "nbformat_minor": 1
}
