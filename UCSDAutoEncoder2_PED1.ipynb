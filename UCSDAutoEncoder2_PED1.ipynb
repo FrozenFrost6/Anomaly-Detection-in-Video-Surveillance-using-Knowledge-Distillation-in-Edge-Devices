{
 "cells": [
  {
   "cell_type": "code",
   "execution_count": 1,
   "metadata": {},
   "outputs": [
    {
     "name": "stderr",
     "output_type": "stream",
     "text": [
      "C:\\Users\\Chanv\\anaconda3\\envs\\tf2\\lib\\site-packages\\requests\\__init__.py:109: RequestsDependencyWarning: urllib3 (1.26.14) or chardet (None)/charset_normalizer (3.1.0) doesn't match a supported version!\n",
      "  warnings.warn(\n"
     ]
    },
    {
     "name": "stdout",
     "output_type": "stream",
     "text": [
      "Num GPUs Available:  1\n",
      "True\n",
      "2.10.1\n"
     ]
    },
    {
     "data": {
      "text/plain": [
       "'3.9.16 | packaged by conda-forge | (main, Feb  1 2023, 21:28:38) [MSC v.1929 64 bit (AMD64)]'"
      ]
     },
     "execution_count": 1,
     "metadata": {},
     "output_type": "execute_result"
    }
   ],
   "source": [
    "import tensorflow as tf\n",
    "print(\"Num GPUs Available: \", len(tf.config.experimental.list_physical_devices('GPU')))\n",
    "print(tf.test.is_built_with_cuda())\n",
    "print(tf.version.VERSION)\n",
    "\n",
    "for device in tf.config.list_physical_devices('GPU'):\n",
    "    tf.config.experimental.set_memory_growth(device, True)\n",
    "\n",
    "import sys\n",
    "sys.version\n"
   ]
  },
  {
   "cell_type": "code",
   "execution_count": 2,
   "metadata": {
    "executionInfo": {
     "elapsed": 651,
     "status": "ok",
     "timestamp": 1708805847305,
     "user": {
      "displayName": "Gokul R",
      "userId": "12776642200840171310"
     },
     "user_tz": -330
    },
    "id": "Gpxo6B5OpNGE"
   },
   "outputs": [],
   "source": [
    "DATASET_PATH = 'C:/Users/Chanv/Projects/FYP/UCSDPed/UCSDped1/Train'\n",
    "SINGLE_TEST_PATH = 'C:/Users/Chanv/Projects/FYP/UCSDPed/UCSDped1/Test/Test002'\n",
    "BATCH_SIZE = 8\n",
    "MODEL1_PATH = \"C:/Users/Chanv/Projects/FYP/UCSDPed/simpleAutoencoder2.hdf5\""
   ]
  },
  {
   "cell_type": "code",
   "execution_count": 3,
   "metadata": {
    "executionInfo": {
     "elapsed": 3,
     "status": "ok",
     "timestamp": 1708805849249,
     "user": {
      "displayName": "Gokul R",
      "userId": "12776642200840171310"
     },
     "user_tz": -330
    },
    "id": "Q-0waVbwhyjw"
   },
   "outputs": [],
   "source": [
    "from os import listdir\n",
    "from os.path import isfile, join, isdir\n",
    "from PIL import Image\n",
    "import numpy as np\n",
    "import shelve\n",
    "import matplotlib.pyplot as plt"
   ]
  },
  {
   "cell_type": "code",
   "execution_count": 4,
   "metadata": {
    "executionInfo": {
     "elapsed": 3,
     "status": "ok",
     "timestamp": 1708805853379,
     "user": {
      "displayName": "Gokul R",
      "userId": "12776642200840171310"
     },
     "user_tz": -330
    },
    "id": "d4XVI11OpPZA"
   },
   "outputs": [],
   "source": [
    "def evaluate(size, sequences, reconstructed_sequences):\n",
    "    sequences_reconstruction_cost = np.array([np.linalg.norm(np.subtract(sequences[i],reconstructed_sequences[i])) for i in range(0,size)])\n",
    "    sa = (sequences_reconstruction_cost - np.min(sequences_reconstruction_cost)) / np.max(sequences_reconstruction_cost)\n",
    "    sr = 1.0 - sa\n",
    "\n",
    "    mse = np.mean(np.square(sequences - reconstructed_sequences), axis=(1,2,3))\n",
    "\n",
    "    # plot the regularity scores\n",
    "    plt.plot(sr)\n",
    "    plt.ylabel('regularity score Sr(t)')\n",
    "    plt.xlabel('frame t')\n",
    "    plt.show()\n",
    "\n",
    "    return mse"
   ]
  },
  {
   "cell_type": "code",
   "execution_count": 5,
   "metadata": {
    "executionInfo": {
     "elapsed": 2,
     "status": "ok",
     "timestamp": 1708805859926,
     "user": {
      "displayName": "Gokul R",
      "userId": "12776642200840171310"
     },
     "user_tz": -330
    },
    "id": "M2S_GNYMpPiW"
   },
   "outputs": [],
   "source": [
    "def plot_mse_change(mse_values):\n",
    "\n",
    "    # Create frame numbers starting from 1 to the length of MSE values\n",
    "    frame_numbers = [x*10 for x in range(len(mse_values))]\n",
    "\n",
    "    # Plot MSE against frame number\n",
    "    plt.plot(frame_numbers, mse_values, marker='o', linestyle='-')\n",
    "    plt.xlabel('Frame Number')\n",
    "    plt.ylabel('Mean Squared Error (MSE)')\n",
    "    plt.title('MSE Against Frame Number')\n",
    "    plt.grid(True)\n",
    "    plt.show()"
   ]
  },
  {
   "cell_type": "code",
   "execution_count": 6,
   "metadata": {},
   "outputs": [
    {
     "name": "stdout",
     "output_type": "stream",
     "text": [
      "C:/Users/Chanv/Projects/FYP/UCSDPed/UCSDped1/Train\\Train001\n",
      "C:/Users/Chanv/Projects/FYP/UCSDPed/UCSDped1/Train\\Train002\n",
      "C:/Users/Chanv/Projects/FYP/UCSDPed/UCSDped1/Train\\Train003\n",
      "C:/Users/Chanv/Projects/FYP/UCSDPed/UCSDped1/Train\\Train004\n",
      "C:/Users/Chanv/Projects/FYP/UCSDPed/UCSDped1/Train\\Train005\n",
      "C:/Users/Chanv/Projects/FYP/UCSDPed/UCSDped1/Train\\Train006\n",
      "C:/Users/Chanv/Projects/FYP/UCSDPed/UCSDped1/Train\\Train007\n",
      "C:/Users/Chanv/Projects/FYP/UCSDPed/UCSDped1/Train\\Train008\n",
      "C:/Users/Chanv/Projects/FYP/UCSDPed/UCSDped1/Train\\Train009\n",
      "C:/Users/Chanv/Projects/FYP/UCSDPed/UCSDped1/Train\\Train010\n",
      "C:/Users/Chanv/Projects/FYP/UCSDPed/UCSDped1/Train\\Train011\n",
      "C:/Users/Chanv/Projects/FYP/UCSDPed/UCSDped1/Train\\Train012\n",
      "C:/Users/Chanv/Projects/FYP/UCSDPed/UCSDped1/Train\\Train013\n",
      "C:/Users/Chanv/Projects/FYP/UCSDPed/UCSDped1/Train\\Train014\n",
      "C:/Users/Chanv/Projects/FYP/UCSDPed/UCSDped1/Train\\Train015\n",
      "C:/Users/Chanv/Projects/FYP/UCSDPed/UCSDped1/Train\\Train016\n",
      "C:/Users/Chanv/Projects/FYP/UCSDPed/UCSDped1/Train\\Train017\n",
      "C:/Users/Chanv/Projects/FYP/UCSDPed/UCSDped1/Train\\Train018\n",
      "C:/Users/Chanv/Projects/FYP/UCSDPed/UCSDped1/Train\\Train019\n",
      "C:/Users/Chanv/Projects/FYP/UCSDPed/UCSDped1/Train\\Train020\n",
      "C:/Users/Chanv/Projects/FYP/UCSDPed/UCSDped1/Train\\Train021\n",
      "C:/Users/Chanv/Projects/FYP/UCSDPed/UCSDped1/Train\\Train022\n",
      "C:/Users/Chanv/Projects/FYP/UCSDPed/UCSDped1/Train\\Train023\n",
      "C:/Users/Chanv/Projects/FYP/UCSDPed/UCSDped1/Train\\Train024\n",
      "C:/Users/Chanv/Projects/FYP/UCSDPed/UCSDped1/Train\\Train025\n",
      "C:/Users/Chanv/Projects/FYP/UCSDPed/UCSDped1/Train\\Train026\n",
      "C:/Users/Chanv/Projects/FYP/UCSDPed/UCSDped1/Train\\Train027\n",
      "C:/Users/Chanv/Projects/FYP/UCSDPed/UCSDped1/Train\\Train028\n",
      "C:/Users/Chanv/Projects/FYP/UCSDPed/UCSDped1/Train\\Train029\n",
      "C:/Users/Chanv/Projects/FYP/UCSDPed/UCSDped1/Train\\Train030\n",
      "C:/Users/Chanv/Projects/FYP/UCSDPed/UCSDped1/Train\\Train031\n",
      "C:/Users/Chanv/Projects/FYP/UCSDPed/UCSDped1/Train\\Train032\n",
      "C:/Users/Chanv/Projects/FYP/UCSDPed/UCSDped1/Train\\Train033\n",
      "C:/Users/Chanv/Projects/FYP/UCSDPed/UCSDped1/Train\\Train034\n",
      "Preprocessed dataset shape: (150, 10, 128, 128, 3)\n"
     ]
    }
   ],
   "source": [
    "import cv2\n",
    "import os\n",
    "import numpy as np\n",
    "\n",
    "def preprocess_dataset(data_path, output_shape=(128, 128)):\n",
    "    # Create a list to store preprocessed images\n",
    "    preprocessed_data = []\n",
    "\n",
    "    \n",
    "    # Loop through each video sequence in the dataset\n",
    "    for sequence_folder in os.listdir(data_path):\n",
    "        sequence_path = os.path.join(data_path, sequence_folder)\n",
    "        if sequence_path.endswith(\"Store\"):\n",
    "            continue\n",
    "        print(sequence_path)\n",
    "        \n",
    "        frames = []\n",
    "        # Read frames from the video sequence\n",
    "        for frame_file in sorted(os.listdir(sequence_path)):\n",
    "            if frame_file.endswith(\"Store\"):\n",
    "                continue\n",
    "            \n",
    "            if len(frames) == 10:\n",
    "                preprocessed_data.append(frames)\n",
    "                frames = []\n",
    "           \n",
    "            frame_path = os.path.join(sequence_path, frame_file)\n",
    "            frame = cv2.imread(frame_path)\n",
    "            frame = cv2.resize(frame, output_shape)  # Resize frame\n",
    "            frame = frame.astype(np.float32) / 255.0  # Normalize pixel values\n",
    "            frames.append(frame)\n",
    "        preprocessed_data.append(frames)\n",
    "\n",
    "    # Convert the list to a numpy array\n",
    "    preprocessed_data = np.array(preprocessed_data)\n",
    "    \n",
    "    return preprocessed_data\n",
    "\n",
    "\n",
    "# Path to the Ped2 dataset\n",
    "data_path = DATASET_PATH\n",
    "\n",
    "# Preprocess the Ped2 dataset\n",
    "preprocessed_data = preprocess_dataset(data_path)\n",
    "\n",
    "\n",
    "# Check the shape of the preprocessed data\n",
    "print(\"Preprocessed dataset shape:\", preprocessed_data.shape)\n"
   ]
  },
  {
   "cell_type": "code",
   "execution_count": 7,
   "metadata": {
    "executionInfo": {
     "elapsed": 10129,
     "status": "ok",
     "timestamp": 1708805874389,
     "user": {
      "displayName": "Gokul R",
      "userId": "12776642200840171310"
     },
     "user_tz": -330
    },
    "id": "FSmL6XTIpPp4"
   },
   "outputs": [],
   "source": [
    "import keras\n",
    "from tensorflow.keras.models import Sequential\n",
    "from tensorflow.keras.layers import Input, Conv3D, MaxPooling3D, UpSampling3D\n",
    "\n",
    "def get_model2(input_shape = (10, 128, 128, 3)):\n",
    "\n",
    "    autoencoder = Sequential()\n",
    "\n",
    "    # Encoder\n",
    "    autoencoder.add(Conv3D(128, (3, 3, 3), activation='relu', padding='same', input_shape=input_shape))\n",
    "    autoencoder.add(MaxPooling3D((1, 2, 2), padding='same'))\n",
    "    autoencoder.add(Conv3D(64, (3, 3, 3), activation='relu', padding='same'))\n",
    "    autoencoder.add(MaxPooling3D((1, 2, 2), padding='same'))\n",
    "\n",
    "    # Decoder\n",
    "    autoencoder.add(Conv3D(64, (3, 3, 3), activation='relu', padding='same'))\n",
    "    autoencoder.add(UpSampling3D((1, 2, 2)))  # Upsampling to match original input shape\n",
    "    autoencoder.add(Conv3D(128, (3, 3, 3), activation='relu', padding='same'))\n",
    "    autoencoder.add(UpSampling3D((1, 2, 2)))  # Upsampling to match original input shape\n",
    "    autoencoder.add(Conv3D(3, (3, 3, 3), activation='sigmoid', padding='same'))  # Output RGB images\n",
    "\n",
    "    autoencoder.compile(optimizer='adam', loss='mse')\n",
    "    autoencoder.summary()\n",
    "    return autoencoder"
   ]
  },
  {
   "cell_type": "code",
   "execution_count": 8,
   "metadata": {
    "colab": {
     "base_uri": "https://localhost:8080/"
    },
    "executionInfo": {
     "elapsed": 778,
     "status": "ok",
     "timestamp": 1708805875152,
     "user": {
      "displayName": "Gokul R",
      "userId": "12776642200840171310"
     },
     "user_tz": -330
    },
    "id": "8YL0cdhspPr8",
    "outputId": "08002ab7-d995-4a12-f694-6c6bf6e5a16a"
   },
   "outputs": [
    {
     "name": "stdout",
     "output_type": "stream",
     "text": [
      "Model: \"sequential\"\n",
      "_________________________________________________________________\n",
      " Layer (type)                Output Shape              Param #   \n",
      "=================================================================\n",
      " conv3d (Conv3D)             (None, 10, 128, 128, 128  10496     \n",
      "                             )                                   \n",
      "                                                                 \n",
      " max_pooling3d (MaxPooling3D  (None, 10, 64, 64, 128)  0         \n",
      " )                                                               \n",
      "                                                                 \n",
      " conv3d_1 (Conv3D)           (None, 10, 64, 64, 64)    221248    \n",
      "                                                                 \n",
      " max_pooling3d_1 (MaxPooling  (None, 10, 32, 32, 64)   0         \n",
      " 3D)                                                             \n",
      "                                                                 \n",
      " conv3d_2 (Conv3D)           (None, 10, 32, 32, 64)    110656    \n",
      "                                                                 \n",
      " up_sampling3d (UpSampling3D  (None, 10, 64, 64, 64)   0         \n",
      " )                                                               \n",
      "                                                                 \n",
      " conv3d_3 (Conv3D)           (None, 10, 64, 64, 128)   221312    \n",
      "                                                                 \n",
      " up_sampling3d_1 (UpSampling  (None, 10, 128, 128, 128  0        \n",
      " 3D)                         )                                   \n",
      "                                                                 \n",
      " conv3d_4 (Conv3D)           (None, 10, 128, 128, 3)   10371     \n",
      "                                                                 \n",
      "=================================================================\n",
      "Total params: 574,083\n",
      "Trainable params: 574,083\n",
      "Non-trainable params: 0\n",
      "_________________________________________________________________\n"
     ]
    }
   ],
   "source": [
    "seq2 = get_model2()"
   ]
  },
  {
   "cell_type": "code",
   "execution_count": 9,
   "metadata": {},
   "outputs": [],
   "source": [
    "from sklearn.model_selection import train_test_split\n",
    "\n",
    "# Build autoencoder model\n",
    "train_data, val_data = train_test_split(preprocessed_data, test_size=0.2, random_state=42)\n",
    "\n",
    "\n"
   ]
  },
  {
   "cell_type": "code",
   "execution_count": 10,
   "metadata": {
    "scrolled": true
   },
   "outputs": [],
   "source": [
    "from keras.models import load_model\n",
    "\n",
    "# Train autoencoder\n",
    "seq2.compile(loss='mse', optimizer=keras.optimizers.Adam(learning_rate=1e-4, epsilon=1e-6))\n",
    "# seq2.fit(train_data, train_data, validation_data=(val_data, val_data), epochs=20, batch_size=BATCH_SIZE)\n",
    "# seq2.save(MODEL1_PATH)\n",
    "\n",
    "seq2 = load_model(MODEL1_PATH)\n",
    "\n",
    "\n",
    "\n"
   ]
  },
  {
   "cell_type": "markdown",
   "metadata": {},
   "source": [
    "# Testing"
   ]
  },
  {
   "cell_type": "code",
   "execution_count": 11,
   "metadata": {},
   "outputs": [],
   "source": [
    "test_path = 'C:/Users/Chanv/Projects/FYP/UCSDPed/UCSDped1/Test/Test001'"
   ]
  },
  {
   "cell_type": "code",
   "execution_count": 12,
   "metadata": {},
   "outputs": [
    {
     "name": "stdout",
     "output_type": "stream",
     "text": [
      "Preprocessed dataset shape: (150, 10, 128, 128, 3)\n"
     ]
    }
   ],
   "source": [
    "def preprocess_test_dataset(data_path, output_shape=(128, 128)):\n",
    "    # Create a list to store preprocessed images\n",
    "    preprocessed_data = []\n",
    "        \n",
    "    # Read frames from the video sequence\n",
    "    frames = []\n",
    "    for frame_file in sorted(os.listdir(data_path)):\n",
    "        \n",
    "        if frame_file.endswith(\"Store\"):\n",
    "                continue\n",
    "        \n",
    "        if len(frames) == 10:\n",
    "            preprocessed_data.append(frames)\n",
    "            frames = []\n",
    "        \n",
    "        frame_path = os.path.join(data_path, frame_file)\n",
    "        \n",
    "        frame = cv2.imread(frame_path)\n",
    "        frame = cv2.resize(frame, output_shape)  # Resize frame\n",
    "        frame = frame.astype(np.float32) / 255.0  # Normalize pixel values\n",
    "        \n",
    "        frames.append(frame)\n",
    "        \n",
    "    preprocessed_data.append(frames)\n",
    "\n",
    "\n",
    "    # Convert the list to a numpy array\n",
    "    preprocessed_data = np.array(preprocessed_data)\n",
    "    \n",
    "    return preprocessed_data\n",
    "\n",
    "test_data = preprocess_test_dataset(test_path)\n",
    "print(\"Preprocessed dataset shape:\", preprocessed_data.shape)"
   ]
  },
  {
   "cell_type": "code",
   "execution_count": 13,
   "metadata": {
    "executionInfo": {
     "elapsed": 8,
     "status": "aborted",
     "timestamp": 1708808056122,
     "user": {
      "displayName": "Gokul R",
      "userId": "12776642200840171310"
     },
     "user_tz": -330
    },
    "id": "olUIpzW6eCXX",
    "scrolled": true
   },
   "outputs": [
    {
     "name": "stdout",
     "output_type": "stream",
     "text": [
      "1/1 [==============================] - 5s 5s/step\n"
     ]
    }
   ],
   "source": [
    "predicted_sequences = seq2.predict(test_data)"
   ]
  },
  {
   "cell_type": "code",
   "execution_count": 14,
   "metadata": {
    "executionInfo": {
     "elapsed": 7,
     "status": "aborted",
     "timestamp": 1708808056122,
     "user": {
      "displayName": "Gokul R",
      "userId": "12776642200840171310"
     },
     "user_tz": -330
    },
    "id": "ROqo9szUz68b"
   },
   "outputs": [
    {
     "data": {
      "image/png": "[encoded data removed]",
      "text/plain": [
       "<Figure size 640x480 with 1 Axes>"
      ]
     },
     "metadata": {},
     "output_type": "display_data"
    }
   ],
   "source": [
    "mse2 = evaluate(20, test_data, predicted_sequences)"
   ]
  },
  {
   "cell_type": "code",
   "execution_count": 15,
   "metadata": {
    "executionInfo": {
     "elapsed": 7,
     "status": "aborted",
     "timestamp": 1708808056122,
     "user": {
      "displayName": "Gokul R",
      "userId": "12776642200840171310"
     },
     "user_tz": -330
    },
    "id": "UrLWQpX6z_U-"
   },
   "outputs": [
    {
     "data": {
      "image/png": "[encoded data removed]",
      "text/plain": [
       "<Figure size 640x480 with 1 Axes>"
      ]
     },
     "metadata": {},
     "output_type": "display_data"
    }
   ],
   "source": [
    "plot_mse_change(mse2)"
   ]
  },
  {
   "cell_type": "code",
   "execution_count": 16,
   "metadata": {},
   "outputs": [
    {
     "name": "stdout",
     "output_type": "stream",
     "text": [
      "[[0.0041672  0.00415613 0.00414214]\n",
      " [0.00412274 0.00413015 0.00411291]\n",
      " [0.00412914 0.00411609 0.00410731]\n",
      " [0.00414055 0.00413815 0.00412831]\n",
      " [0.00435815 0.00434196 0.00434497]\n",
      " [0.00467124 0.00465524 0.00466262]\n",
      " [0.00457417 0.00456462 0.00458517]\n",
      " [0.00460082 0.00457088 0.00457714]\n",
      " [0.00468384 0.00467426 0.00466952]\n",
      " [0.00475787 0.00473362 0.00473515]\n",
      " [0.00491305 0.00488531 0.00488405]\n",
      " [0.0049738  0.00496592 0.00494973]\n",
      " [0.00444665 0.00443705 0.00442661]\n",
      " [0.00441766 0.00442041 0.00441276]\n",
      " [0.00474459 0.00472595 0.0047306 ]\n",
      " [0.00417747 0.00417356 0.00416312]\n",
      " [0.0043535  0.00433746 0.0043294 ]\n",
      " [0.00419634 0.00419162 0.00418725]\n",
      " [0.00407562 0.00405433 0.00405408]\n",
      " [0.0041807  0.00416845 0.00416432]]\n"
     ]
    }
   ],
   "source": [
    "print(mse2)"
   ]
  }
 ],
 "metadata": {
  "colab": {
   "provenance": [
    {
     "file_id": "16pKwsVzk5vStYFXQ6UIO8y_7vRB64i_b",
     "timestamp": 1708760794322
    }
   ]
  },
  "kernelspec": {
   "display_name": "Python 3 (ipykernel)",
   "language": "python",
   "name": "python3"
  },
  "language_info": {
   "codemirror_mode": {
    "name": "ipython",
    "version": 3
   },
   "file_extension": ".py",
   "mimetype": "text/x-python",
   "name": "python",
   "nbconvert_exporter": "python",
   "pygments_lexer": "ipython3",
   "version": "3.9.16"
  }
 },
 "nbformat": 4,
 "nbformat_minor": 1
}
