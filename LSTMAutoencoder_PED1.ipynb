{
 "cells": [
  {
   "cell_type": "code",
   "execution_count": 1,
   "metadata": {},
   "outputs": [
    {
     "name": "stderr",
     "output_type": "stream",
     "text": [
      "C:\\Users\\Chanv\\anaconda3\\envs\\tf2\\lib\\site-packages\\requests\\__init__.py:109: RequestsDependencyWarning: urllib3 (1.26.14) or chardet (None)/charset_normalizer (3.1.0) doesn't match a supported version!\n",
      "  warnings.warn(\n"
     ]
    },
    {
     "name": "stdout",
     "output_type": "stream",
     "text": [
      "Num GPUs Available:  1\n",
      "True\n",
      "2.10.1\n"
     ]
    },
    {
     "data": {
      "text/plain": [
       "'3.9.16 | packaged by conda-forge | (main, Feb  1 2023, 21:28:38) [MSC v.1929 64 bit (AMD64)]'"
      ]
     },
     "execution_count": 1,
     "metadata": {},
     "output_type": "execute_result"
    }
   ],
   "source": [
    "import tensorflow as tf\n",
    "print(\"Num GPUs Available: \", len(tf.config.experimental.list_physical_devices('GPU')))\n",
    "print(tf.test.is_built_with_cuda())\n",
    "print(tf.version.VERSION)\n",
    "\n",
    "for device in tf.config.list_physical_devices('GPU'):\n",
    "    tf.config.experimental.set_memory_growth(device, True)\n",
    "\n",
    "import sys\n",
    "sys.version\n"
   ]
  },
  {
   "cell_type": "code",
   "execution_count": 2,
   "metadata": {
    "executionInfo": {
     "elapsed": 651,
     "status": "ok",
     "timestamp": 1708805847305,
     "user": {
      "displayName": "Gokul R",
      "userId": "12776642200840171310"
     },
     "user_tz": -330
    },
    "id": "Gpxo6B5OpNGE"
   },
   "outputs": [],
   "source": [
    "DATASET_PATH = 'C:/Users/Chanv/Projects/FYP/UCSDPed/UCSDped1/Train'\n",
    "SINGLE_TEST_PATH = 'C:/Users/Chanv/Projects/FYP/UCSDPed/UCSDped1/Test/Test002'\n",
    "BATCH_SIZE = 8\n",
    "EPOCHS = 3\n",
    "MODEL2_PATH = \"C:/Users/Chanv/Projects/FYP/UCSDPed/lstm_model2.hdf5\""
   ]
  },
  {
   "cell_type": "code",
   "execution_count": 3,
   "metadata": {
    "executionInfo": {
     "elapsed": 3,
     "status": "ok",
     "timestamp": 1708805849249,
     "user": {
      "displayName": "Gokul R",
      "userId": "12776642200840171310"
     },
     "user_tz": -330
    },
    "id": "Q-0waVbwhyjw"
   },
   "outputs": [],
   "source": [
    "from os import listdir\n",
    "from os.path import isfile, join, isdir\n",
    "from PIL import Image\n",
    "import numpy as np\n",
    "import shelve\n",
    "import matplotlib.pyplot as plt"
   ]
  },
  {
   "cell_type": "code",
   "execution_count": 4,
   "metadata": {
    "executionInfo": {
     "elapsed": 3,
     "status": "ok",
     "timestamp": 1708805853379,
     "user": {
      "displayName": "Gokul R",
      "userId": "12776642200840171310"
     },
     "user_tz": -330
    },
    "id": "d4XVI11OpPZA"
   },
   "outputs": [],
   "source": [
    "def evaluate(size, sequences, reconstructed_sequences):\n",
    "    sequences_reconstruction_cost = np.array([np.linalg.norm(np.subtract(sequences[i],reconstructed_sequences[i])) for i in range(0,size)])\n",
    "    sa = (sequences_reconstruction_cost - np.min(sequences_reconstruction_cost)) / np.max(sequences_reconstruction_cost)\n",
    "    sr = 1.0 - sa\n",
    "\n",
    "    mse = np.mean(np.square(sequences - reconstructed_sequences), axis=(1,2,3))\n",
    "\n",
    "    # plot the regularity scores\n",
    "    plt.plot(sr)\n",
    "    plt.ylabel('regularity score Sr(t)')\n",
    "    plt.xlabel('frame t')\n",
    "    plt.show()\n",
    "\n",
    "    return mse"
   ]
  },
  {
   "cell_type": "code",
   "execution_count": 5,
   "metadata": {
    "executionInfo": {
     "elapsed": 2,
     "status": "ok",
     "timestamp": 1708805859926,
     "user": {
      "displayName": "Gokul R",
      "userId": "12776642200840171310"
     },
     "user_tz": -330
    },
    "id": "M2S_GNYMpPiW"
   },
   "outputs": [],
   "source": [
    "def plot_mse_change(mse_values):\n",
    "\n",
    "    # Create frame numbers starting from 1 to the length of MSE values\n",
    "    frame_numbers = [x*10 for x in range(len(mse_values))]\n",
    "\n",
    "    # Plot MSE against frame number\n",
    "    plt.plot(frame_numbers, mse_values, marker='o', linestyle='-')\n",
    "    plt.xlabel('Frame Number')\n",
    "    plt.ylabel('Mean Squared Error (MSE)')\n",
    "    plt.title('MSE Against Frame Number')\n",
    "    plt.grid(True)\n",
    "    plt.show()"
   ]
  },
  {
   "cell_type": "code",
   "execution_count": 6,
   "metadata": {},
   "outputs": [
    {
     "name": "stdout",
     "output_type": "stream",
     "text": [
      "C:/Users/Chanv/Projects/FYP/UCSDPed/UCSDped1/Train\\Train001\n",
      "C:/Users/Chanv/Projects/FYP/UCSDPed/UCSDped1/Train\\Train002\n",
      "C:/Users/Chanv/Projects/FYP/UCSDPed/UCSDped1/Train\\Train003\n",
      "C:/Users/Chanv/Projects/FYP/UCSDPed/UCSDped1/Train\\Train004\n",
      "C:/Users/Chanv/Projects/FYP/UCSDPed/UCSDped1/Train\\Train005\n",
      "C:/Users/Chanv/Projects/FYP/UCSDPed/UCSDped1/Train\\Train006\n",
      "C:/Users/Chanv/Projects/FYP/UCSDPed/UCSDped1/Train\\Train007\n",
      "C:/Users/Chanv/Projects/FYP/UCSDPed/UCSDped1/Train\\Train008\n",
      "C:/Users/Chanv/Projects/FYP/UCSDPed/UCSDped1/Train\\Train009\n",
      "C:/Users/Chanv/Projects/FYP/UCSDPed/UCSDped1/Train\\Train010\n",
      "C:/Users/Chanv/Projects/FYP/UCSDPed/UCSDped1/Train\\Train011\n",
      "C:/Users/Chanv/Projects/FYP/UCSDPed/UCSDped1/Train\\Train012\n",
      "C:/Users/Chanv/Projects/FYP/UCSDPed/UCSDped1/Train\\Train013\n",
      "C:/Users/Chanv/Projects/FYP/UCSDPed/UCSDped1/Train\\Train014\n",
      "C:/Users/Chanv/Projects/FYP/UCSDPed/UCSDped1/Train\\Train015\n",
      "C:/Users/Chanv/Projects/FYP/UCSDPed/UCSDped1/Train\\Train016\n",
      "C:/Users/Chanv/Projects/FYP/UCSDPed/UCSDped1/Train\\Train017\n",
      "C:/Users/Chanv/Projects/FYP/UCSDPed/UCSDped1/Train\\Train018\n",
      "C:/Users/Chanv/Projects/FYP/UCSDPed/UCSDped1/Train\\Train019\n",
      "C:/Users/Chanv/Projects/FYP/UCSDPed/UCSDped1/Train\\Train020\n",
      "C:/Users/Chanv/Projects/FYP/UCSDPed/UCSDped1/Train\\Train021\n",
      "C:/Users/Chanv/Projects/FYP/UCSDPed/UCSDped1/Train\\Train022\n",
      "C:/Users/Chanv/Projects/FYP/UCSDPed/UCSDped1/Train\\Train023\n",
      "C:/Users/Chanv/Projects/FYP/UCSDPed/UCSDped1/Train\\Train024\n",
      "C:/Users/Chanv/Projects/FYP/UCSDPed/UCSDped1/Train\\Train025\n",
      "C:/Users/Chanv/Projects/FYP/UCSDPed/UCSDped1/Train\\Train026\n",
      "C:/Users/Chanv/Projects/FYP/UCSDPed/UCSDped1/Train\\Train027\n",
      "C:/Users/Chanv/Projects/FYP/UCSDPed/UCSDped1/Train\\Train028\n",
      "C:/Users/Chanv/Projects/FYP/UCSDPed/UCSDped1/Train\\Train029\n",
      "C:/Users/Chanv/Projects/FYP/UCSDPed/UCSDped1/Train\\Train030\n",
      "C:/Users/Chanv/Projects/FYP/UCSDPed/UCSDped1/Train\\Train031\n",
      "C:/Users/Chanv/Projects/FYP/UCSDPed/UCSDped1/Train\\Train032\n",
      "C:/Users/Chanv/Projects/FYP/UCSDPed/UCSDped1/Train\\Train033\n",
      "C:/Users/Chanv/Projects/FYP/UCSDPed/UCSDped1/Train\\Train034\n",
      "Preprocessed dataset shape: (150, 10, 128, 128, 3)\n"
     ]
    }
   ],
   "source": [
    "import cv2\n",
    "import os\n",
    "import numpy as np\n",
    "\n",
    "def preprocess_dataset(data_path, output_shape=(128, 128)):\n",
    "    # Create a list to store preprocessed images\n",
    "    preprocessed_data = []\n",
    "\n",
    "    \n",
    "    # Loop through each video sequence in the dataset\n",
    "    for sequence_folder in os.listdir(data_path):\n",
    "        sequence_path = os.path.join(data_path, sequence_folder)\n",
    "        if sequence_path.endswith(\"Store\"):\n",
    "            continue\n",
    "        print(sequence_path)\n",
    "        \n",
    "        frames = []\n",
    "        # Read frames from the video sequence\n",
    "        for frame_file in sorted(os.listdir(sequence_path)):\n",
    "            if frame_file.endswith(\"Store\"):\n",
    "                continue\n",
    "            \n",
    "            if len(frames) == 10:\n",
    "                preprocessed_data.append(frames)\n",
    "                frames = []\n",
    "           \n",
    "            frame_path = os.path.join(sequence_path, frame_file)\n",
    "            frame = cv2.imread(frame_path)\n",
    "            frame = cv2.resize(frame, output_shape)  # Resize frame\n",
    "            frame = frame.astype(np.float32) / 255.0  # Normalize pixel values\n",
    "            frames.append(frame)\n",
    "        preprocessed_data.append(frames)\n",
    "\n",
    "    # Convert the list to a numpy array\n",
    "    preprocessed_data = np.array(preprocessed_data)\n",
    "    \n",
    "    return preprocessed_data\n",
    "\n",
    "\n",
    "# Path to the Ped2 dataset\n",
    "data_path = DATASET_PATH\n",
    "\n",
    "# Preprocess the Ped2 dataset\n",
    "preprocessed_data = preprocess_dataset(data_path)\n",
    "preprocessed_data = preprocessed_data[:150]\n",
    "\n",
    "# Check the shape of the preprocessed data\n",
    "print(\"Preprocessed dataset shape:\", preprocessed_data.shape)\n"
   ]
  },
  {
   "cell_type": "code",
   "execution_count": 7,
   "metadata": {
    "executionInfo": {
     "elapsed": 10129,
     "status": "ok",
     "timestamp": 1708805874389,
     "user": {
      "displayName": "Gokul R",
      "userId": "12776642200840171310"
     },
     "user_tz": -330
    },
    "id": "FSmL6XTIpPp4"
   },
   "outputs": [],
   "source": [
    "import keras\n",
    "from keras.layers import Conv2DTranspose, ConvLSTM2D, BatchNormalization, TimeDistributed, Conv2D, LayerNormalization\n",
    "from keras.models import Sequential, load_model\n",
    "\n",
    "def get_model2():\n",
    "\n",
    "    seq = Sequential()\n",
    "    seq.add(TimeDistributed(Conv2D(64, (11, 11), strides=4, padding=\"same\"), batch_input_shape=(None, 10, 128, 128, 3)))\n",
    "    seq.add(LayerNormalization())\n",
    "    seq.add(TimeDistributed(Conv2D(32, (5, 5), strides=2, padding=\"same\")))\n",
    "    seq.add(LayerNormalization())\n",
    "    # # # # #\n",
    "    seq.add(ConvLSTM2D(64, (3, 3), padding=\"same\", return_sequences=True))\n",
    "    seq.add(LayerNormalization())\n",
    "    seq.add(ConvLSTM2D(32, (3, 3), padding=\"same\", return_sequences=True))\n",
    "    seq.add(LayerNormalization())\n",
    "    seq.add(ConvLSTM2D(64, (3, 3), padding=\"same\", return_sequences=True))\n",
    "    seq.add(LayerNormalization())\n",
    "    # # # # #\n",
    "    seq.add(TimeDistributed(Conv2DTranspose(32, (5, 5), strides=2, padding=\"same\")))\n",
    "    seq.add(LayerNormalization())\n",
    "    seq.add(TimeDistributed(Conv2DTranspose(64, (11, 11), strides=4, padding=\"same\")))\n",
    "    seq.add(LayerNormalization())\n",
    "    seq.add(TimeDistributed(Conv2D(3, (11, 11), activation=\"sigmoid\", padding=\"same\")))\n",
    "    print(seq.summary())\n",
    "\n",
    "    return seq"
   ]
  },
  {
   "cell_type": "code",
   "execution_count": 8,
   "metadata": {
    "colab": {
     "base_uri": "https://localhost:8080/"
    },
    "executionInfo": {
     "elapsed": 778,
     "status": "ok",
     "timestamp": 1708805875152,
     "user": {
      "displayName": "Gokul R",
      "userId": "12776642200840171310"
     },
     "user_tz": -330
    },
    "id": "8YL0cdhspPr8",
    "outputId": "08002ab7-d995-4a12-f694-6c6bf6e5a16a"
   },
   "outputs": [
    {
     "name": "stdout",
     "output_type": "stream",
     "text": [
      "Model: \"sequential\"\n",
      "_________________________________________________________________\n",
      " Layer (type)                Output Shape              Param #   \n",
      "=================================================================\n",
      " time_distributed (TimeDistr  (None, 10, 32, 32, 64)   23296     \n",
      " ibuted)                                                         \n",
      "                                                                 \n",
      " layer_normalization (LayerN  (None, 10, 32, 32, 64)   128       \n",
      " ormalization)                                                   \n",
      "                                                                 \n",
      " time_distributed_1 (TimeDis  (None, 10, 16, 16, 32)   51232     \n",
      " tributed)                                                       \n",
      "                                                                 \n",
      " layer_normalization_1 (Laye  (None, 10, 16, 16, 32)   64        \n",
      " rNormalization)                                                 \n",
      "                                                                 \n",
      " conv_lstm2d (ConvLSTM2D)    (None, 10, 16, 16, 64)    221440    \n",
      "                                                                 \n",
      " layer_normalization_2 (Laye  (None, 10, 16, 16, 64)   128       \n",
      " rNormalization)                                                 \n",
      "                                                                 \n",
      " conv_lstm2d_1 (ConvLSTM2D)  (None, 10, 16, 16, 32)    110720    \n",
      "                                                                 \n",
      " layer_normalization_3 (Laye  (None, 10, 16, 16, 32)   64        \n",
      " rNormalization)                                                 \n",
      "                                                                 \n",
      " conv_lstm2d_2 (ConvLSTM2D)  (None, 10, 16, 16, 64)    221440    \n",
      "                                                                 \n",
      " layer_normalization_4 (Laye  (None, 10, 16, 16, 64)   128       \n",
      " rNormalization)                                                 \n",
      "                                                                 \n",
      " time_distributed_2 (TimeDis  (None, 10, 32, 32, 32)   51232     \n",
      " tributed)                                                       \n",
      "                                                                 \n",
      " layer_normalization_5 (Laye  (None, 10, 32, 32, 32)   64        \n",
      " rNormalization)                                                 \n",
      "                                                                 \n",
      " time_distributed_3 (TimeDis  (None, 10, 128, 128, 64)  247872   \n",
      " tributed)                                                       \n",
      "                                                                 \n",
      " layer_normalization_6 (Laye  (None, 10, 128, 128, 64)  128      \n",
      " rNormalization)                                                 \n",
      "                                                                 \n",
      " time_distributed_4 (TimeDis  (None, 10, 128, 128, 3)  23235     \n",
      " tributed)                                                       \n",
      "                                                                 \n",
      "=================================================================\n",
      "Total params: 951,171\n",
      "Trainable params: 951,171\n",
      "Non-trainable params: 0\n",
      "_________________________________________________________________\n",
      "None\n"
     ]
    }
   ],
   "source": [
    "seq2 = get_model2()"
   ]
  },
  {
   "cell_type": "code",
   "execution_count": 9,
   "metadata": {},
   "outputs": [],
   "source": [
    "from sklearn.model_selection import train_test_split\n",
    "\n",
    "# Build autoencoder model\n",
    "train_data, val_data = train_test_split(preprocessed_data, test_size=0.2, random_state=42)\n",
    "\n",
    "\n"
   ]
  },
  {
   "cell_type": "code",
   "execution_count": 11,
   "metadata": {
    "scrolled": true
   },
   "outputs": [
    {
     "name": "stdout",
     "output_type": "stream",
     "text": [
      "Epoch 1/20\n",
      "15/15 [==============================] - 29s 849ms/step - loss: 6.0030 - val_loss: 4.0543\n",
      "Epoch 2/20\n",
      "15/15 [==============================] - 8s 528ms/step - loss: 3.7461 - val_loss: 3.7153\n",
      "Epoch 3/20\n",
      "15/15 [==============================] - 8s 563ms/step - loss: 3.6909 - val_loss: 3.7140\n",
      "Epoch 4/20\n",
      "15/15 [==============================] - 8s 564ms/step - loss: 3.6903 - val_loss: 3.7138\n",
      "Epoch 5/20\n",
      "15/15 [==============================] - 9s 583ms/step - loss: 3.6902 - val_loss: 3.7137\n",
      "Epoch 6/20\n",
      "15/15 [==============================] - 9s 601ms/step - loss: 3.6901 - val_loss: 3.7137\n",
      "Epoch 7/20\n",
      "15/15 [==============================] - 9s 593ms/step - loss: 3.6901 - val_loss: 3.7136\n",
      "Epoch 8/20\n",
      "15/15 [==============================] - 9s 588ms/step - loss: 3.6901 - val_loss: 3.7136\n",
      "Epoch 9/20\n",
      "15/15 [==============================] - 9s 586ms/step - loss: 3.6901 - val_loss: 3.7136\n",
      "Epoch 10/20\n",
      "15/15 [==============================] - 9s 587ms/step - loss: 3.6900 - val_loss: 3.7136\n",
      "Epoch 11/20\n",
      "15/15 [==============================] - 8s 569ms/step - loss: 3.6900 - val_loss: 3.7136\n",
      "Epoch 12/20\n",
      "15/15 [==============================] - 8s 561ms/step - loss: 3.6900 - val_loss: 3.7135\n",
      "Epoch 13/20\n",
      "15/15 [==============================] - 8s 551ms/step - loss: 3.6900 - val_loss: 3.7135\n",
      "Epoch 14/20\n",
      "15/15 [==============================] - 8s 568ms/step - loss: 3.6900 - val_loss: 3.7135\n",
      "Epoch 15/20\n",
      "15/15 [==============================] - 8s 546ms/step - loss: 3.6899 - val_loss: 3.7135\n",
      "Epoch 16/20\n",
      "15/15 [==============================] - 8s 555ms/step - loss: 3.6899 - val_loss: 3.7135\n",
      "Epoch 17/20\n",
      "15/15 [==============================] - 8s 543ms/step - loss: 3.6899 - val_loss: 3.7135\n",
      "Epoch 18/20\n",
      "15/15 [==============================] - 8s 545ms/step - loss: 3.6899 - val_loss: 3.7134\n",
      "Epoch 19/20\n",
      "15/15 [==============================] - 8s 545ms/step - loss: 3.6899 - val_loss: 3.7134\n",
      "Epoch 20/20\n",
      "15/15 [==============================] - 8s 557ms/step - loss: 3.6899 - val_loss: 3.7134\n"
     ]
    }
   ],
   "source": [
    "# Train autoencoder\n",
    "seq2.compile(loss='mse', optimizer=keras.optimizers.Adam(learning_rate=1e-4, epsilon=1e-6))\n",
    "seq2.fit(train_data, train_data, validation_data=(val_data, val_data), epochs=20, batch_size=BATCH_SIZE)\n",
    "seq2.save(MODEL2_PATH)\n",
    "\n"
   ]
  },
  {
   "cell_type": "markdown",
   "metadata": {},
   "source": [
    "# Testing"
   ]
  },
  {
   "cell_type": "code",
   "execution_count": 12,
   "metadata": {},
   "outputs": [],
   "source": [
    "test_path = 'C:/Users/Chanv/Projects/FYP/UCSDPed/UCSDped1/Test/Test001'"
   ]
  },
  {
   "cell_type": "code",
   "execution_count": 13,
   "metadata": {},
   "outputs": [
    {
     "name": "stdout",
     "output_type": "stream",
     "text": [
      "Preprocessed dataset shape: (150, 10, 128, 128, 3)\n"
     ]
    }
   ],
   "source": [
    "def preprocess_test_dataset(data_path, output_shape=(128, 128)):\n",
    "    # Create a list to store preprocessed images\n",
    "    preprocessed_data = []\n",
    "        \n",
    "    # Read frames from the video sequence\n",
    "    frames = []\n",
    "    for frame_file in sorted(os.listdir(data_path)):\n",
    "        \n",
    "        if frame_file.endswith(\"Store\"):\n",
    "                continue\n",
    "        \n",
    "        if len(frames) == 10:\n",
    "            preprocessed_data.append(frames)\n",
    "            frames = []\n",
    "        \n",
    "        frame_path = os.path.join(data_path, frame_file)\n",
    "        \n",
    "        frame = cv2.imread(frame_path)\n",
    "        frame = cv2.resize(frame, output_shape)  # Resize frame\n",
    "        frame = frame.astype(np.float32) / 255.0  # Normalize pixel values\n",
    "        \n",
    "        frames.append(frame)\n",
    "        \n",
    "    preprocessed_data.append(frames)\n",
    "\n",
    "\n",
    "    # Convert the list to a numpy array\n",
    "    preprocessed_data = np.array(preprocessed_data)\n",
    "    \n",
    "    return preprocessed_data\n",
    "\n",
    "test_data = preprocess_test_dataset(test_path)\n",
    "print(\"Preprocessed dataset shape:\", preprocessed_data.shape)"
   ]
  },
  {
   "cell_type": "code",
   "execution_count": 14,
   "metadata": {
    "executionInfo": {
     "elapsed": 8,
     "status": "aborted",
     "timestamp": 1708808056122,
     "user": {
      "displayName": "Gokul R",
      "userId": "12776642200840171310"
     },
     "user_tz": -330
    },
    "id": "olUIpzW6eCXX",
    "scrolled": true
   },
   "outputs": [
    {
     "name": "stdout",
     "output_type": "stream",
     "text": [
      "1/1 [==============================] - 11s 11s/step\n"
     ]
    }
   ],
   "source": [
    "predicted_sequences = seq2.predict(test_data)"
   ]
  },
  {
   "cell_type": "code",
   "execution_count": 15,
   "metadata": {
    "executionInfo": {
     "elapsed": 7,
     "status": "aborted",
     "timestamp": 1708808056122,
     "user": {
      "displayName": "Gokul R",
      "userId": "12776642200840171310"
     },
     "user_tz": -330
    },
    "id": "ROqo9szUz68b"
   },
   "outputs": [
    {
     "data": {
      "image/png": "[encoded data removed]",
      "text/plain": [
       "<Figure size 640x480 with 1 Axes>"
      ]
     },
     "metadata": {},
     "output_type": "display_data"
    }
   ],
   "source": [
    "mse2 = evaluate(20, test_data, predicted_sequences)"
   ]
  },
  {
   "cell_type": "code",
   "execution_count": 16,
   "metadata": {
    "executionInfo": {
     "elapsed": 7,
     "status": "aborted",
     "timestamp": 1708808056122,
     "user": {
      "displayName": "Gokul R",
      "userId": "12776642200840171310"
     },
     "user_tz": -330
    },
    "id": "UrLWQpX6z_U-"
   },
   "outputs": [
    {
     "data": {
      "image/png": "[encoded data removed]",
      "text/plain": [
       "<Figure size 640x480 with 1 Axes>"
      ]
     },
     "metadata": {},
     "output_type": "display_data"
    }
   ],
   "source": [
    "plot_mse_change(mse2)"
   ]
  },
  {
   "cell_type": "code",
   "execution_count": 17,
   "metadata": {},
   "outputs": [
    {
     "name": "stdout",
     "output_type": "stream",
     "text": [
      "[[0.41384083 0.41384572 0.41384092]\n",
      " [0.41450596 0.41451174 0.4145051 ]\n",
      " [0.41607624 0.41608    0.41607457]\n",
      " [0.4173425  0.4173481  0.4173413 ]\n",
      " [0.4187367  0.41874155 0.41873676]\n",
      " [0.42189512 0.42189986 0.42189485]\n",
      " [0.42415562 0.42415944 0.42415452]\n",
      " [0.42471394 0.424719   0.42471275]\n",
      " [0.42583767 0.42584333 0.4258364 ]\n",
      " [0.42807412 0.42807907 0.42807236]\n",
      " [0.4256661  0.4256722  0.42566505]\n",
      " [0.42597637 0.42598176 0.42597565]\n",
      " [0.42395884 0.4239644  0.42395777]\n",
      " [0.42418498 0.42418948 0.4241851 ]\n",
      " [0.4229993  0.42300472 0.42299834]\n",
      " [0.4187159  0.41872048 0.4187153 ]\n",
      " [0.41915402 0.41915917 0.41915387]\n",
      " [0.4196824  0.4196868  0.4196825 ]\n",
      " [0.42074043 0.42074585 0.42074051]\n",
      " [0.42185122 0.42185512 0.42184964]]\n"
     ]
    }
   ],
   "source": [
    "print(mse2)"
   ]
  }
 ],
 "metadata": {
  "colab": {
   "provenance": [
    {
     "file_id": "16pKwsVzk5vStYFXQ6UIO8y_7vRB64i_b",
     "timestamp": 1708760794322
    }
   ]
  },
  "kernelspec": {
   "display_name": "Python 3 (ipykernel)",
   "language": "python",
   "name": "python3"
  },
  "language_info": {
   "codemirror_mode": {
    "name": "ipython",
    "version": 3
   },
   "file_extension": ".py",
   "mimetype": "text/x-python",
   "name": "python",
   "nbconvert_exporter": "python",
   "pygments_lexer": "ipython3",
   "version": "3.9.16"
  }
 },
 "nbformat": 4,
 "nbformat_minor": 1
}
